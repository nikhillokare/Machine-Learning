{
 "cells": [
  {
   "cell_type": "code",
   "execution_count": 1,
   "id": "237f8fc8-032a-42d6-9461-8d71e4885c4f",
   "metadata": {},
   "outputs": [],
   "source": [
    "# AI stands for Artificial Intelligence, which refers to the capability of machines to perform tasks that would normally require human intelligence, such as visual perception, \n",
    "# speech recognition, decision making, and language translation.\n",
    "# Ex =  A selfdriving car\n",
    "\n",
    "# ML stands for Machine Learning, which is a subset of AI. It involves building algorithms that enable machines to automatically learn and improve from experience, \n",
    "# without being explicitly programmed. ML algorithms can identify patterns and relationships in data, and use that knowledge to make predictions or decisions.\n",
    "# Ex = An online retailer uses ML algorithms to recommend products to customers based on their browsing and purchase history, and other customer data.\n",
    "\n",
    "# DL stands for Deep Learning, which is a subset of machine learning that uses neural networks to learn and make decisions. DL algorithms use multiple layers of interconnected nodes, \n",
    "# or artificial neurons, to process and analyze data. DL algorithms are highly effective for tasks such as image and speech recognition, natural language processing, and autonomous driving\n",
    "# Ex = A voice assistant, such as Amazons Alexa."
   ]
  },
  {
   "cell_type": "code",
   "execution_count": 2,
   "id": "50980e28-f34f-4b0f-9417-98d2b8eeadbf",
   "metadata": {},
   "outputs": [],
   "source": [
    "# Supervised learning is a type of machine learning algorithm in which the computer learns from labeled data, which means that each input data point is accompanied by a corresponding \n",
    "# output or target value. The goal of supervised learning is to train a model to predict the output value for new, unseen input data.\n",
    "# Examples:\n",
    "# Classification: The task of classifying input data into one of several predefined categories or classes, such as determining whether an email is spam or not.\n",
    "\n",
    "# Regression: The task of predicting a continuous numerical value, such as the price of a house based on its features.\n",
    "\n",
    "# Object recognition: The task of identifying objects in an image or video and labeling them with corresponding classes.\n",
    "\n",
    "# Language translation: The task of translating text from one language to another.\n",
    "\n",
    "# Speech recognition: The task of transcribing spoken words into text.\n",
    "\n",
    "# Fraud detection: The task of identifying fraudulent transactions from a dataset of transactions labeled as either fraudulent or not.\n",
    "\n",
    "# Sentiment analysis: The task of analyzing text to determine the sentiment of the writer, such as determining whether a tweet is positive or negative."
   ]
  },
  {
   "cell_type": "code",
   "execution_count": 3,
   "id": "454a85ab-e152-4fa7-8fb8-2af028151103",
   "metadata": {},
   "outputs": [],
   "source": [
    "# Unsupervised learning is a type of machine learning algorithm in which the computer learns from unlabeled data, meaning that the input data does not have corresponding output \n",
    "# or target values. The goal of unsupervised learning is to find patterns and relationships in the input data, without being given explicit guidance on what to look for.\n",
    "\n",
    "# examples:\n",
    "\n",
    "# Clustering: The task of grouping similar data points together based on their characteristics or features. For example, clustering can be used to group customers based on their purchasing behavior.\n",
    "\n",
    "# Dimensionality reduction: The task of reducing the number of features or variables in a dataset, while preserving as much of the original information as possible. For example, principal component analysis (PCA) is a popular technique for dimensionality reduction.\n",
    "\n",
    "# Anomaly detection: The task of identifying unusual or unexpected data points in a dataset. For example, anomaly detection can be used to identify credit card fraud.\n",
    "\n",
    "# Association rule learning: The task of identifying patterns or relationships in data, such as finding that customers who purchase product A are more likely to purchase product B.\n",
    "\n",
    "# Generative models: The task of generating new data that is similar to the input data, such as generating new images that are similar to a given set of images.\n",
    "\n",
    "# Feature learning: The task of automatically learning useful features or representations of the input data. For example, deep autoencoders are a type of neural network that can learn to extract high-level features from raw data."
   ]
  },
  {
   "cell_type": "code",
   "execution_count": 4,
   "id": "0a1d0198-79e3-450a-b5d9-d94ca1032efe",
   "metadata": {},
   "outputs": [],
   "source": [
    "# AI is a broad field that focuses on creating machines that can perform tasks that normally require human intelligence. \n",
    "# ML is a subset of AI that teaches machines to learn from data without being explicitly programmed. \n",
    "# DL is a subset of ML that uses neural networks to learn and make decisions. \n",
    "# DS is a field that focuses on extracting insights and knowledge from data."
   ]
  },
  {
   "cell_type": "code",
   "execution_count": 5,
   "id": "e23bc2e6-763b-4ed3-abc6-0f7238d53627",
   "metadata": {},
   "outputs": [],
   "source": [
    "# Supervised learning uses labeled data to make predictions, unsupervised learning finds patterns in unlabeled data, and semi-supervised learning uses a combination of labeled and\n",
    "# unlabeled data."
   ]
  },
  {
   "cell_type": "code",
   "execution_count": 6,
   "id": "440e5da9-33c8-4a9a-bad8-f7db65d5d4c4",
   "metadata": {},
   "outputs": [],
   "source": [
    "# Train-test-validation split is a common technique used in machine learning to evaluate the performance of a model. The basic idea is to divide the dataset into \n",
    "# three parts: a training set, a validation set, and a test set.\n",
    "\n",
    "# The training set is used to train the model, meaning the algorithm learns from the data to make predictions. \n",
    "# The validation set is used to tune the models hyperparameters, which are settings that control how the algorithm works. \n",
    "# By trying out different hyperparameter values on the validation set and evaluating the models\n",
    "# performance, you can choose the best settings for your specific problem. Finally, the test set is used to evaluate the models performance on new, unseen data. "
   ]
  },
  {
   "cell_type": "code",
   "execution_count": 8,
   "id": "cb98bd44-7904-4deb-a166-bfa39128da74",
   "metadata": {},
   "outputs": [],
   "source": [
    "# Unsupervised learning can be useful in anomaly detection because it can help identify patterns and outliers in data without the need for labeled examples."
   ]
  },
  {
   "cell_type": "code",
   "execution_count": 9,
   "id": "3e55af19-bfa9-4847-87c8-655ae44486b7",
   "metadata": {},
   "outputs": [],
   "source": [
    "# Supervised Learning Algorithms:\n",
    "\n",
    "# Linear Regression\n",
    "# Logistic Regression\n",
    "# Decision Trees\n",
    "# Random Forests\n",
    "# Support Vector Machines (SVM)\n",
    "# Naive Bayes\n",
    "# K-Nearest Neighbors (KNN)\n",
    "# Neural Networks\n",
    "\n",
    "\n",
    "# Unsupervised Learning Algorithms:\n",
    "\n",
    "# K-Means Clustering\n",
    "# Hierarchical Clustering\n",
    "# DBSCAN\n",
    "# Principal Component Analysis (PCA)\n",
    "# Independent Component Analysis (ICA)\n",
    "# Gaussian Mixture Models (GMM)\n",
    "# Association Rule Mining (Apriori)\n",
    "# Anomaly Detection"
   ]
  },
  {
   "cell_type": "code",
   "execution_count": null,
   "id": "152b4b80-0948-4ca5-97a2-5d0efb6b0861",
   "metadata": {},
   "outputs": [],
   "source": []
  }
 ],
 "metadata": {
  "kernelspec": {
   "display_name": "Python 3 (ipykernel)",
   "language": "python",
   "name": "python3"
  },
  "language_info": {
   "codemirror_mode": {
    "name": "ipython",
    "version": 3
   },
   "file_extension": ".py",
   "mimetype": "text/x-python",
   "name": "python",
   "nbconvert_exporter": "python",
   "pygments_lexer": "ipython3",
   "version": "3.10.8"
  }
 },
 "nbformat": 4,
 "nbformat_minor": 5
}
